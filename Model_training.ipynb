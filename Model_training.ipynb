{
  "nbformat": 4,
  "nbformat_minor": 0,
  "metadata": {
    "colab": {
      "name": "Model_training_copy.ipynb",
      "provenance": [],
      "collapsed_sections": [
        "izCcZTQcHVFn"
      ]
    },
    "kernelspec": {
      "name": "python3",
      "display_name": "Python 3"
    },
    "language_info": {
      "name": "python"
    },
    "accelerator": "GPU"
  },
  "cells": [
    {
      "cell_type": "code",
      "metadata": {
        "id": "du5AhJ2aTxGL",
        "colab": {
          "base_uri": "https://localhost:8080/"
        },
        "outputId": "def3735d-1f52-479a-f748-131ba1283a7b"
      },
      "source": [
        "from google.colab import drive\n",
        "drive.mount('/content/drive')"
      ],
      "execution_count": 1,
      "outputs": [
        {
          "output_type": "stream",
          "name": "stdout",
          "text": [
            "Mounted at /content/drive\n"
          ]
        }
      ]
    },
    {
      "cell_type": "markdown",
      "metadata": {
        "id": "izCcZTQcHVFn"
      },
      "source": [
        "## Install/Import Dependencies"
      ]
    },
    {
      "cell_type": "code",
      "metadata": {
        "colab": {
          "base_uri": "https://localhost:8080/"
        },
        "id": "lYPkqLVtTz79",
        "outputId": "52bdc85f-aaa2-4cb4-b1e9-0708215c349b"
      },
      "source": [
        "!pip install tensorflow-io-nightly==0.11.0.dev2383\n",
        "!pip install tensorflow==2.1rc1\n",
        "# ! pip install tensorflow_io\n",
        "!pip uninstall h5py\n",
        "!pip install h5py==2.10.0"
      ],
      "execution_count": 2,
      "outputs": [
        {
          "output_type": "stream",
          "name": "stdout",
          "text": [
            "Collecting tensorflow-io-nightly==0.11.0.dev2383\n",
            "  Downloading tensorflow_io_nightly-0.11.0.dev2383-cp37-cp37m-manylinux2010_x86_64.whl (23.7 MB)\n",
            "\u001b[K     |████████████████████████████████| 23.7 MB 31.5 MB/s \n",
            "\u001b[?25hRequirement already satisfied: tensorflow>=2.1.0rc1 in /usr/local/lib/python3.7/dist-packages (from tensorflow-io-nightly==0.11.0.dev2383) (2.6.0)\n",
            "Requirement already satisfied: numpy~=1.19.2 in /usr/local/lib/python3.7/dist-packages (from tensorflow>=2.1.0rc1->tensorflow-io-nightly==0.11.0.dev2383) (1.19.5)\n",
            "Requirement already satisfied: clang~=5.0 in /usr/local/lib/python3.7/dist-packages (from tensorflow>=2.1.0rc1->tensorflow-io-nightly==0.11.0.dev2383) (5.0)\n",
            "Requirement already satisfied: keras~=2.6 in /usr/local/lib/python3.7/dist-packages (from tensorflow>=2.1.0rc1->tensorflow-io-nightly==0.11.0.dev2383) (2.6.0)\n",
            "Requirement already satisfied: opt-einsum~=3.3.0 in /usr/local/lib/python3.7/dist-packages (from tensorflow>=2.1.0rc1->tensorflow-io-nightly==0.11.0.dev2383) (3.3.0)\n",
            "Requirement already satisfied: absl-py~=0.10 in /usr/local/lib/python3.7/dist-packages (from tensorflow>=2.1.0rc1->tensorflow-io-nightly==0.11.0.dev2383) (0.12.0)\n",
            "Requirement already satisfied: wrapt~=1.12.1 in /usr/local/lib/python3.7/dist-packages (from tensorflow>=2.1.0rc1->tensorflow-io-nightly==0.11.0.dev2383) (1.12.1)\n",
            "Requirement already satisfied: h5py~=3.1.0 in /usr/local/lib/python3.7/dist-packages (from tensorflow>=2.1.0rc1->tensorflow-io-nightly==0.11.0.dev2383) (3.1.0)\n",
            "Requirement already satisfied: typing-extensions~=3.7.4 in /usr/local/lib/python3.7/dist-packages (from tensorflow>=2.1.0rc1->tensorflow-io-nightly==0.11.0.dev2383) (3.7.4.3)\n",
            "Requirement already satisfied: astunparse~=1.6.3 in /usr/local/lib/python3.7/dist-packages (from tensorflow>=2.1.0rc1->tensorflow-io-nightly==0.11.0.dev2383) (1.6.3)\n",
            "Requirement already satisfied: tensorflow-estimator~=2.6 in /usr/local/lib/python3.7/dist-packages (from tensorflow>=2.1.0rc1->tensorflow-io-nightly==0.11.0.dev2383) (2.6.0)\n",
            "Requirement already satisfied: tensorboard~=2.6 in /usr/local/lib/python3.7/dist-packages (from tensorflow>=2.1.0rc1->tensorflow-io-nightly==0.11.0.dev2383) (2.6.0)\n",
            "Requirement already satisfied: six~=1.15.0 in /usr/local/lib/python3.7/dist-packages (from tensorflow>=2.1.0rc1->tensorflow-io-nightly==0.11.0.dev2383) (1.15.0)\n",
            "Requirement already satisfied: wheel~=0.35 in /usr/local/lib/python3.7/dist-packages (from tensorflow>=2.1.0rc1->tensorflow-io-nightly==0.11.0.dev2383) (0.37.0)\n",
            "Requirement already satisfied: protobuf>=3.9.2 in /usr/local/lib/python3.7/dist-packages (from tensorflow>=2.1.0rc1->tensorflow-io-nightly==0.11.0.dev2383) (3.17.3)\n",
            "Requirement already satisfied: gast==0.4.0 in /usr/local/lib/python3.7/dist-packages (from tensorflow>=2.1.0rc1->tensorflow-io-nightly==0.11.0.dev2383) (0.4.0)\n",
            "Requirement already satisfied: flatbuffers~=1.12.0 in /usr/local/lib/python3.7/dist-packages (from tensorflow>=2.1.0rc1->tensorflow-io-nightly==0.11.0.dev2383) (1.12)\n",
            "Requirement already satisfied: google-pasta~=0.2 in /usr/local/lib/python3.7/dist-packages (from tensorflow>=2.1.0rc1->tensorflow-io-nightly==0.11.0.dev2383) (0.2.0)\n",
            "Requirement already satisfied: termcolor~=1.1.0 in /usr/local/lib/python3.7/dist-packages (from tensorflow>=2.1.0rc1->tensorflow-io-nightly==0.11.0.dev2383) (1.1.0)\n",
            "Requirement already satisfied: grpcio<2.0,>=1.37.0 in /usr/local/lib/python3.7/dist-packages (from tensorflow>=2.1.0rc1->tensorflow-io-nightly==0.11.0.dev2383) (1.41.0)\n",
            "Requirement already satisfied: keras-preprocessing~=1.1.2 in /usr/local/lib/python3.7/dist-packages (from tensorflow>=2.1.0rc1->tensorflow-io-nightly==0.11.0.dev2383) (1.1.2)\n",
            "Requirement already satisfied: cached-property in /usr/local/lib/python3.7/dist-packages (from h5py~=3.1.0->tensorflow>=2.1.0rc1->tensorflow-io-nightly==0.11.0.dev2383) (1.5.2)\n",
            "Requirement already satisfied: markdown>=2.6.8 in /usr/local/lib/python3.7/dist-packages (from tensorboard~=2.6->tensorflow>=2.1.0rc1->tensorflow-io-nightly==0.11.0.dev2383) (3.3.4)\n",
            "Requirement already satisfied: requests<3,>=2.21.0 in /usr/local/lib/python3.7/dist-packages (from tensorboard~=2.6->tensorflow>=2.1.0rc1->tensorflow-io-nightly==0.11.0.dev2383) (2.23.0)\n",
            "Requirement already satisfied: werkzeug>=0.11.15 in /usr/local/lib/python3.7/dist-packages (from tensorboard~=2.6->tensorflow>=2.1.0rc1->tensorflow-io-nightly==0.11.0.dev2383) (1.0.1)\n",
            "Requirement already satisfied: tensorboard-data-server<0.7.0,>=0.6.0 in /usr/local/lib/python3.7/dist-packages (from tensorboard~=2.6->tensorflow>=2.1.0rc1->tensorflow-io-nightly==0.11.0.dev2383) (0.6.1)\n",
            "Requirement already satisfied: tensorboard-plugin-wit>=1.6.0 in /usr/local/lib/python3.7/dist-packages (from tensorboard~=2.6->tensorflow>=2.1.0rc1->tensorflow-io-nightly==0.11.0.dev2383) (1.8.0)\n",
            "Requirement already satisfied: setuptools>=41.0.0 in /usr/local/lib/python3.7/dist-packages (from tensorboard~=2.6->tensorflow>=2.1.0rc1->tensorflow-io-nightly==0.11.0.dev2383) (57.4.0)\n",
            "Requirement already satisfied: google-auth<2,>=1.6.3 in /usr/local/lib/python3.7/dist-packages (from tensorboard~=2.6->tensorflow>=2.1.0rc1->tensorflow-io-nightly==0.11.0.dev2383) (1.35.0)\n",
            "Requirement already satisfied: google-auth-oauthlib<0.5,>=0.4.1 in /usr/local/lib/python3.7/dist-packages (from tensorboard~=2.6->tensorflow>=2.1.0rc1->tensorflow-io-nightly==0.11.0.dev2383) (0.4.6)\n",
            "Requirement already satisfied: cachetools<5.0,>=2.0.0 in /usr/local/lib/python3.7/dist-packages (from google-auth<2,>=1.6.3->tensorboard~=2.6->tensorflow>=2.1.0rc1->tensorflow-io-nightly==0.11.0.dev2383) (4.2.4)\n",
            "Requirement already satisfied: rsa<5,>=3.1.4 in /usr/local/lib/python3.7/dist-packages (from google-auth<2,>=1.6.3->tensorboard~=2.6->tensorflow>=2.1.0rc1->tensorflow-io-nightly==0.11.0.dev2383) (4.7.2)\n",
            "Requirement already satisfied: pyasn1-modules>=0.2.1 in /usr/local/lib/python3.7/dist-packages (from google-auth<2,>=1.6.3->tensorboard~=2.6->tensorflow>=2.1.0rc1->tensorflow-io-nightly==0.11.0.dev2383) (0.2.8)\n",
            "Requirement already satisfied: requests-oauthlib>=0.7.0 in /usr/local/lib/python3.7/dist-packages (from google-auth-oauthlib<0.5,>=0.4.1->tensorboard~=2.6->tensorflow>=2.1.0rc1->tensorflow-io-nightly==0.11.0.dev2383) (1.3.0)\n",
            "Requirement already satisfied: importlib-metadata in /usr/local/lib/python3.7/dist-packages (from markdown>=2.6.8->tensorboard~=2.6->tensorflow>=2.1.0rc1->tensorflow-io-nightly==0.11.0.dev2383) (4.8.1)\n",
            "Requirement already satisfied: pyasn1<0.5.0,>=0.4.6 in /usr/local/lib/python3.7/dist-packages (from pyasn1-modules>=0.2.1->google-auth<2,>=1.6.3->tensorboard~=2.6->tensorflow>=2.1.0rc1->tensorflow-io-nightly==0.11.0.dev2383) (0.4.8)\n",
            "Requirement already satisfied: certifi>=2017.4.17 in /usr/local/lib/python3.7/dist-packages (from requests<3,>=2.21.0->tensorboard~=2.6->tensorflow>=2.1.0rc1->tensorflow-io-nightly==0.11.0.dev2383) (2021.5.30)\n",
            "Requirement already satisfied: urllib3!=1.25.0,!=1.25.1,<1.26,>=1.21.1 in /usr/local/lib/python3.7/dist-packages (from requests<3,>=2.21.0->tensorboard~=2.6->tensorflow>=2.1.0rc1->tensorflow-io-nightly==0.11.0.dev2383) (1.24.3)\n",
            "Requirement already satisfied: idna<3,>=2.5 in /usr/local/lib/python3.7/dist-packages (from requests<3,>=2.21.0->tensorboard~=2.6->tensorflow>=2.1.0rc1->tensorflow-io-nightly==0.11.0.dev2383) (2.10)\n",
            "Requirement already satisfied: chardet<4,>=3.0.2 in /usr/local/lib/python3.7/dist-packages (from requests<3,>=2.21.0->tensorboard~=2.6->tensorflow>=2.1.0rc1->tensorflow-io-nightly==0.11.0.dev2383) (3.0.4)\n",
            "Requirement already satisfied: oauthlib>=3.0.0 in /usr/local/lib/python3.7/dist-packages (from requests-oauthlib>=0.7.0->google-auth-oauthlib<0.5,>=0.4.1->tensorboard~=2.6->tensorflow>=2.1.0rc1->tensorflow-io-nightly==0.11.0.dev2383) (3.1.1)\n",
            "Requirement already satisfied: zipp>=0.5 in /usr/local/lib/python3.7/dist-packages (from importlib-metadata->markdown>=2.6.8->tensorboard~=2.6->tensorflow>=2.1.0rc1->tensorflow-io-nightly==0.11.0.dev2383) (3.6.0)\n",
            "Installing collected packages: tensorflow-io-nightly\n",
            "Successfully installed tensorflow-io-nightly-0.11.0.dev2383\n",
            "Collecting tensorflow==2.1rc1\n",
            "  Downloading tensorflow-2.1.0rc1-cp37-cp37m-manylinux2010_x86_64.whl (421.8 MB)\n",
            "\u001b[K     |████████████████████████████████| 421.8 MB 33 kB/s \n",
            "\u001b[?25hRequirement already satisfied: wheel>=0.26 in /usr/local/lib/python3.7/dist-packages (from tensorflow==2.1rc1) (0.37.0)\n",
            "Requirement already satisfied: google-pasta>=0.1.6 in /usr/local/lib/python3.7/dist-packages (from tensorflow==2.1rc1) (0.2.0)\n",
            "Requirement already satisfied: astor>=0.6.0 in /usr/local/lib/python3.7/dist-packages (from tensorflow==2.1rc1) (0.8.1)\n",
            "Requirement already satisfied: absl-py>=0.7.0 in /usr/local/lib/python3.7/dist-packages (from tensorflow==2.1rc1) (0.12.0)\n",
            "Requirement already satisfied: numpy<2.0,>=1.16.0 in /usr/local/lib/python3.7/dist-packages (from tensorflow==2.1rc1) (1.19.5)\n",
            "Requirement already satisfied: protobuf>=3.8.0 in /usr/local/lib/python3.7/dist-packages (from tensorflow==2.1rc1) (3.17.3)\n",
            "Collecting tensorboard<2.2.0,>=2.1.0\n",
            "  Downloading tensorboard-2.1.1-py3-none-any.whl (3.8 MB)\n",
            "\u001b[K     |████████████████████████████████| 3.8 MB 23.1 MB/s \n",
            "\u001b[?25hRequirement already satisfied: opt-einsum>=2.3.2 in /usr/local/lib/python3.7/dist-packages (from tensorflow==2.1rc1) (3.3.0)\n",
            "Collecting tensorflow-estimator<2.2.0,>=2.1.0rc0\n",
            "  Downloading tensorflow_estimator-2.1.0-py2.py3-none-any.whl (448 kB)\n",
            "\u001b[K     |████████████████████████████████| 448 kB 51.2 MB/s \n",
            "\u001b[?25hCollecting gast==0.2.2\n",
            "  Downloading gast-0.2.2.tar.gz (10 kB)\n",
            "Requirement already satisfied: termcolor>=1.1.0 in /usr/local/lib/python3.7/dist-packages (from tensorflow==2.1rc1) (1.1.0)\n",
            "Requirement already satisfied: keras-preprocessing>=1.1.0 in /usr/local/lib/python3.7/dist-packages (from tensorflow==2.1rc1) (1.1.2)\n",
            "Requirement already satisfied: grpcio>=1.8.6 in /usr/local/lib/python3.7/dist-packages (from tensorflow==2.1rc1) (1.41.0)\n",
            "Requirement already satisfied: six>=1.12.0 in /usr/local/lib/python3.7/dist-packages (from tensorflow==2.1rc1) (1.15.0)\n",
            "Collecting keras-applications>=1.0.8\n",
            "  Downloading Keras_Applications-1.0.8-py3-none-any.whl (50 kB)\n",
            "\u001b[K     |████████████████████████████████| 50 kB 6.5 MB/s \n",
            "\u001b[?25hRequirement already satisfied: wrapt>=1.11.1 in /usr/local/lib/python3.7/dist-packages (from tensorflow==2.1rc1) (1.12.1)\n",
            "Requirement already satisfied: h5py in /usr/local/lib/python3.7/dist-packages (from keras-applications>=1.0.8->tensorflow==2.1rc1) (3.1.0)\n",
            "Requirement already satisfied: google-auth-oauthlib<0.5,>=0.4.1 in /usr/local/lib/python3.7/dist-packages (from tensorboard<2.2.0,>=2.1.0->tensorflow==2.1rc1) (0.4.6)\n",
            "Requirement already satisfied: werkzeug>=0.11.15 in /usr/local/lib/python3.7/dist-packages (from tensorboard<2.2.0,>=2.1.0->tensorflow==2.1rc1) (1.0.1)\n",
            "Requirement already satisfied: markdown>=2.6.8 in /usr/local/lib/python3.7/dist-packages (from tensorboard<2.2.0,>=2.1.0->tensorflow==2.1rc1) (3.3.4)\n",
            "Requirement already satisfied: google-auth<2,>=1.6.3 in /usr/local/lib/python3.7/dist-packages (from tensorboard<2.2.0,>=2.1.0->tensorflow==2.1rc1) (1.35.0)\n",
            "Requirement already satisfied: setuptools>=41.0.0 in /usr/local/lib/python3.7/dist-packages (from tensorboard<2.2.0,>=2.1.0->tensorflow==2.1rc1) (57.4.0)\n",
            "Requirement already satisfied: requests<3,>=2.21.0 in /usr/local/lib/python3.7/dist-packages (from tensorboard<2.2.0,>=2.1.0->tensorflow==2.1rc1) (2.23.0)\n",
            "Requirement already satisfied: rsa<5,>=3.1.4 in /usr/local/lib/python3.7/dist-packages (from google-auth<2,>=1.6.3->tensorboard<2.2.0,>=2.1.0->tensorflow==2.1rc1) (4.7.2)\n",
            "Requirement already satisfied: cachetools<5.0,>=2.0.0 in /usr/local/lib/python3.7/dist-packages (from google-auth<2,>=1.6.3->tensorboard<2.2.0,>=2.1.0->tensorflow==2.1rc1) (4.2.4)\n",
            "Requirement already satisfied: pyasn1-modules>=0.2.1 in /usr/local/lib/python3.7/dist-packages (from google-auth<2,>=1.6.3->tensorboard<2.2.0,>=2.1.0->tensorflow==2.1rc1) (0.2.8)\n",
            "Requirement already satisfied: requests-oauthlib>=0.7.0 in /usr/local/lib/python3.7/dist-packages (from google-auth-oauthlib<0.5,>=0.4.1->tensorboard<2.2.0,>=2.1.0->tensorflow==2.1rc1) (1.3.0)\n",
            "Requirement already satisfied: importlib-metadata in /usr/local/lib/python3.7/dist-packages (from markdown>=2.6.8->tensorboard<2.2.0,>=2.1.0->tensorflow==2.1rc1) (4.8.1)\n",
            "Requirement already satisfied: pyasn1<0.5.0,>=0.4.6 in /usr/local/lib/python3.7/dist-packages (from pyasn1-modules>=0.2.1->google-auth<2,>=1.6.3->tensorboard<2.2.0,>=2.1.0->tensorflow==2.1rc1) (0.4.8)\n",
            "Requirement already satisfied: idna<3,>=2.5 in /usr/local/lib/python3.7/dist-packages (from requests<3,>=2.21.0->tensorboard<2.2.0,>=2.1.0->tensorflow==2.1rc1) (2.10)\n",
            "Requirement already satisfied: chardet<4,>=3.0.2 in /usr/local/lib/python3.7/dist-packages (from requests<3,>=2.21.0->tensorboard<2.2.0,>=2.1.0->tensorflow==2.1rc1) (3.0.4)\n",
            "Requirement already satisfied: urllib3!=1.25.0,!=1.25.1,<1.26,>=1.21.1 in /usr/local/lib/python3.7/dist-packages (from requests<3,>=2.21.0->tensorboard<2.2.0,>=2.1.0->tensorflow==2.1rc1) (1.24.3)\n",
            "Requirement already satisfied: certifi>=2017.4.17 in /usr/local/lib/python3.7/dist-packages (from requests<3,>=2.21.0->tensorboard<2.2.0,>=2.1.0->tensorflow==2.1rc1) (2021.5.30)\n",
            "Requirement already satisfied: oauthlib>=3.0.0 in /usr/local/lib/python3.7/dist-packages (from requests-oauthlib>=0.7.0->google-auth-oauthlib<0.5,>=0.4.1->tensorboard<2.2.0,>=2.1.0->tensorflow==2.1rc1) (3.1.1)\n",
            "Requirement already satisfied: cached-property in /usr/local/lib/python3.7/dist-packages (from h5py->keras-applications>=1.0.8->tensorflow==2.1rc1) (1.5.2)\n",
            "Requirement already satisfied: typing-extensions>=3.6.4 in /usr/local/lib/python3.7/dist-packages (from importlib-metadata->markdown>=2.6.8->tensorboard<2.2.0,>=2.1.0->tensorflow==2.1rc1) (3.7.4.3)\n",
            "Requirement already satisfied: zipp>=0.5 in /usr/local/lib/python3.7/dist-packages (from importlib-metadata->markdown>=2.6.8->tensorboard<2.2.0,>=2.1.0->tensorflow==2.1rc1) (3.6.0)\n",
            "Building wheels for collected packages: gast\n",
            "  Building wheel for gast (setup.py) ... \u001b[?25l\u001b[?25hdone\n",
            "  Created wheel for gast: filename=gast-0.2.2-py3-none-any.whl size=7554 sha256=0b0d765f4aff83e0ad687df2700d2ba77352f90835d48db321371229ba410532\n",
            "  Stored in directory: /root/.cache/pip/wheels/21/7f/02/420f32a803f7d0967b48dd823da3f558c5166991bfd204eef3\n",
            "Successfully built gast\n",
            "Installing collected packages: tensorflow-estimator, tensorboard, keras-applications, gast, tensorflow\n",
            "  Attempting uninstall: tensorflow-estimator\n",
            "    Found existing installation: tensorflow-estimator 2.6.0\n",
            "    Uninstalling tensorflow-estimator-2.6.0:\n",
            "      Successfully uninstalled tensorflow-estimator-2.6.0\n",
            "  Attempting uninstall: tensorboard\n",
            "    Found existing installation: tensorboard 2.6.0\n",
            "    Uninstalling tensorboard-2.6.0:\n",
            "      Successfully uninstalled tensorboard-2.6.0\n",
            "  Attempting uninstall: gast\n",
            "    Found existing installation: gast 0.4.0\n",
            "    Uninstalling gast-0.4.0:\n",
            "      Successfully uninstalled gast-0.4.0\n",
            "  Attempting uninstall: tensorflow\n",
            "    Found existing installation: tensorflow 2.6.0\n",
            "    Uninstalling tensorflow-2.6.0:\n",
            "      Successfully uninstalled tensorflow-2.6.0\n",
            "\u001b[31mERROR: pip's dependency resolver does not currently take into account all the packages that are installed. This behaviour is the source of the following dependency conflicts.\n",
            "tensorflow-probability 0.14.1 requires gast>=0.3.2, but you have gast 0.2.2 which is incompatible.\u001b[0m\n",
            "Successfully installed gast-0.2.2 keras-applications-1.0.8 tensorboard-2.1.1 tensorflow-2.1.0rc1 tensorflow-estimator-2.1.0\n"
          ]
        }
      ]
    },
    {
      "cell_type": "code",
      "metadata": {
        "id": "jef0HZGqT66S"
      },
      "source": [
        "import tensorflow_io as tfio\n",
        "import tensorflow as tf\n",
        "import tensorflow_hub as hub\n",
        "import h5py"
      ],
      "execution_count": 3,
      "outputs": []
    },
    {
      "cell_type": "markdown",
      "metadata": {
        "id": "Zn3oYWu8wPrP"
      },
      "source": [
        "## Setting up Cross validation data"
      ]
    },
    {
      "cell_type": "code",
      "metadata": {
        "id": "LGP0PcuSjp8u"
      },
      "source": [
        "def io_hdf5(file_path, set=[\"train\", \"test\"], clip_or_label=[\"_clips\", \"_labels\"]):\n",
        "  \"\"\"setup file dataset stream from given file path\"\"\"\n",
        "  return  tfio.IODataset.from_hdf5(file_path, dataset=f'/{set}{clip_or_label}')\n",
        "\n",
        "def zip_dataset(X, y, batch_size=10):\n",
        "  \"\"\"Zip datasets together for model training\"\"\"\n",
        "  return tf.data.Dataset.zip((X, y)).batch(batch_size, drop_remainder=True).prefetch(tf.data.experimental.AUTOTUNE)\n"
      ],
      "execution_count": 6,
      "outputs": []
    },
    {
      "cell_type": "code",
      "metadata": {
        "id": "3zaBDBXgT9u0",
        "colab": {
          "base_uri": "https://localhost:8080/"
        },
        "outputId": "9d3fafb1-dc95-4110-ce67-7f9a5c84a715"
      },
      "source": [
        "import h5py\n",
        "\n",
        "list_of_x_train_folds = [0, 1, 2, 3, 4]\n",
        "\n",
        "cross_validation_iterations = {}\n",
        "\n",
        "\n",
        "# Set generical x and y paths\n",
        "X_TRAIN_HDF5_PATH = \"/content/drive/MyDrive/AI wearables/X_train_\"\n",
        "Y_TRAIN_HDF5_PATH = \"/content/drive/MyDrive/AI wearables/y_train_\"\n",
        "\n",
        "historys = []\n",
        "\n",
        "k = 0\n",
        "\n",
        "# Perform Cross Validation Model training\n",
        "for fold in list_of_x_train_folds:\n",
        "\n",
        "  # setup x and y paths\n",
        "  X_val_path = X_TRAIN_HDF5_PATH + f\"{fold}.hdf5\"\n",
        "  y_val_path = Y_TRAIN_HDF5_PATH + f\"{fold}.hdf5\"\n",
        "\n",
        "  # Fold -> validation set\n",
        "  X_val = io_hdf5(X_val_path, \"train\", \"_clips\")\n",
        "  y_val = io_hdf5(y_val_path, \"train\", \"_labels\")\n",
        "\n",
        "  # Zip val dataset\n",
        "  val = zip_dataset(X_val, y_val)\n",
        "\n",
        "  ### CREATE TRAINING FOLDS ###\n",
        "\n",
        "  i = 0 # used to start new dataset stream\n",
        "\n",
        "  # remove validation fold\n",
        "  new_list = [f for f in list_of_x_train_folds if f != fold]\n",
        "\n",
        "  for train_fold in new_list:\n",
        "    \n",
        "\n",
        "    if i == 0:\n",
        "\n",
        "      # Setup x and y train path\n",
        "      X_train_path = X_TRAIN_HDF5_PATH + f\"{train_fold}.hdf5\"\n",
        "      y_train_path = Y_TRAIN_HDF5_PATH + f\"{train_fold}.hdf5\"\n",
        "\n",
        "      # Initialize training set\n",
        "      X_train = io_hdf5(X_train_path, \"train\", \"_clips\")\n",
        "      y_train = io_hdf5(y_train_path, \"train\", \"_labels\")\n",
        "\n",
        "      i += 1\n",
        "\n",
        "    else:\n",
        "\n",
        "      # Setup x and y train path\n",
        "      X_train_path = X_TRAIN_HDF5_PATH + f\"{train_fold}.hdf5\"\n",
        "      y_train_path = Y_TRAIN_HDF5_PATH + f\"{train_fold}.hdf5\"\n",
        "\n",
        "      # Concat to training set\n",
        "      X_train_to_concat = io_hdf5(X_train_path, \"train\", \"_clips\")\n",
        "      y_train_to_concat = io_hdf5(y_train_path, \"train\", \"_labels\")\n",
        "\n",
        "      X_train = X_train.concatenate(X_train_to_concat)\n",
        "      y_train = y_train.concatenate(y_train_to_concat)\n",
        "\n",
        "  # Zip final training sets together\n",
        "  train = zip_dataset(X_train, y_train)\n",
        "\n",
        "  print(\"**\"*80)\n",
        "  print(\"Train:\", train)\n",
        "  print(\"Val:\", val)\n",
        "  print(\"--\"*80)\n",
        "  print(f\"Adding train/val pair # {k} to cross validation dictionary...\")\n",
        "  cross_validation_iterations[k] = [train, val] # training is first in the list for each dict key\n",
        "  print(\"Done!\")\n",
        "  k += 1"
      ],
      "execution_count": null,
      "outputs": [
        {
          "output_type": "stream",
          "name": "stdout",
          "text": [
            "****************************************************************************************************************************************************************\n",
            "Train: <PrefetchDataset shapes: ((10, 116, 224, 224, 3), (10,)), types: (tf.float32, tf.float32)>\n",
            "Val: <PrefetchDataset shapes: ((10, 116, 224, 224, 3), (10,)), types: (tf.float32, tf.float32)>\n",
            "----------------------------------------------------------------------------------------------------------------------------------------------------------------\n",
            "Adding train/val pair # 0 to cross validation dictionary...\n",
            "Done!\n",
            "****************************************************************************************************************************************************************\n",
            "Train: <PrefetchDataset shapes: ((10, 116, 224, 224, 3), (10,)), types: (tf.float32, tf.float32)>\n",
            "Val: <PrefetchDataset shapes: ((10, 116, 224, 224, 3), (10,)), types: (tf.float32, tf.float32)>\n",
            "----------------------------------------------------------------------------------------------------------------------------------------------------------------\n",
            "Adding train/val pair # 1 to cross validation dictionary...\n",
            "Done!\n",
            "****************************************************************************************************************************************************************\n",
            "Train: <PrefetchDataset shapes: ((10, 116, 224, 224, 3), (10,)), types: (tf.float32, tf.float32)>\n",
            "Val: <PrefetchDataset shapes: ((10, 116, 224, 224, 3), (10,)), types: (tf.float32, tf.float32)>\n",
            "----------------------------------------------------------------------------------------------------------------------------------------------------------------\n",
            "Adding train/val pair # 2 to cross validation dictionary...\n",
            "Done!\n",
            "****************************************************************************************************************************************************************\n",
            "Train: <PrefetchDataset shapes: ((10, 116, 224, 224, 3), (10,)), types: (tf.float32, tf.float32)>\n",
            "Val: <PrefetchDataset shapes: ((10, 116, 224, 224, 3), (10,)), types: (tf.float32, tf.float32)>\n",
            "----------------------------------------------------------------------------------------------------------------------------------------------------------------\n",
            "Adding train/val pair # 3 to cross validation dictionary...\n",
            "Done!\n",
            "****************************************************************************************************************************************************************\n",
            "Train: <PrefetchDataset shapes: ((10, 116, 224, 224, 3), (10,)), types: (tf.float32, tf.float32)>\n",
            "Val: <PrefetchDataset shapes: ((10, 116, 224, 224, 3), (10,)), types: (tf.float32, tf.float32)>\n",
            "----------------------------------------------------------------------------------------------------------------------------------------------------------------\n",
            "Adding train/val pair # 4 to cross validation dictionary...\n",
            "Done!\n"
          ]
        }
      ]
    },
    {
      "cell_type": "code",
      "metadata": {
        "colab": {
          "base_uri": "https://localhost:8080/"
        },
        "id": "OPB5BKugwUeg",
        "outputId": "9ede09b4-07a4-4ebf-8ff5-ea9c72669187"
      },
      "source": [
        "# Example of cross validation iteration\n",
        "print(f\"Training set: {cross_validation_iterations[0][0]}\")\n",
        "print(f\"Validation set: {cross_validation_iterations[0][1]}\")"
      ],
      "execution_count": null,
      "outputs": [
        {
          "output_type": "stream",
          "name": "stdout",
          "text": [
            "Training set: <PrefetchDataset shapes: ((10, 116, 224, 224, 3), (10,)), types: (tf.float32, tf.float32)>\n",
            "Validation set: <PrefetchDataset shapes: ((10, 116, 224, 224, 3), (10,)), types: (tf.float32, tf.float32)>\n"
          ]
        }
      ]
    },
    {
      "cell_type": "code",
      "metadata": {
        "colab": {
          "base_uri": "https://localhost:8080/"
        },
        "id": "qIpJiTYQu-2Z",
        "outputId": "7ece6a3f-3c78-4bd1-9e22-bb36241d9f55"
      },
      "source": [
        "len(cross_validation_iterations)"
      ],
      "execution_count": null,
      "outputs": [
        {
          "output_type": "execute_result",
          "data": {
            "text/plain": [
              "5"
            ]
          },
          "metadata": {},
          "execution_count": 8
        }
      ]
    },
    {
      "cell_type": "markdown",
      "metadata": {
        "id": "JCrJOpvCwLC-"
      },
      "source": [
        "## Model Training"
      ]
    },
    {
      "cell_type": "code",
      "metadata": {
        "id": "o607-VuWUCZ9"
      },
      "source": [
        "import tensorflow_hub as hub\n",
        "\n",
        "# i3d = hub.KerasLayer(\"https://tfhub.dev/deepmind/i3d-kinetics-400/1\")\n",
        "\n",
        "# policy = tf.keras.mixed_precision.experimental.Policy('mixed_float16')\n",
        "# tf.keras.mixed_precision.experimental.set_policy(policy) "
      ],
      "execution_count": null,
      "outputs": []
    },
    {
      "cell_type": "markdown",
      "metadata": {
        "id": "HLwOk0VbI85T"
      },
      "source": [
        "### Model Variation 1: Learning rate of 0.01, 5 Epochs"
      ]
    },
    {
      "cell_type": "code",
      "metadata": {
        "id": "uJErPpjfXqJu"
      },
      "source": [
        "from tensorflow import keras\n",
        "import tensorflow as tf\n",
        "\n",
        "\n",
        "def get_model():\n",
        "  # Create model\n",
        "  model = keras.Sequential([\n",
        "      keras.layers.Input((116, 224, 224, 3)),\n",
        "      i3d,\n",
        "      keras.layers.Dense(14, activation=\"softmax\")\n",
        "  ])\n",
        "\n",
        "  # Compile the model\n",
        "  model.compile(loss=\"sparse_categorical_crossentropy\",\n",
        "                optimizer=tf.keras.optimizers.Adam(learning_rate=0.01),\n",
        "                metrics=[\"accuracy\"])\n",
        "\n",
        "  model.build()\n",
        "  return model"
      ],
      "execution_count": null,
      "outputs": []
    },
    {
      "cell_type": "code",
      "metadata": {
        "id": "sccpL-9md7Ve",
        "colab": {
          "base_uri": "https://localhost:8080/"
        },
        "outputId": "55ecbf59-ff57-49e9-b047-f51f76eb6111"
      },
      "source": [
        "# This is to load the model after any given training iteration\n",
        "# model = model.load(f\"/content/drive/MyDrive/AI wearables/model_{CV_ITER}.h5\")\n",
        "\n",
        "accuracies = {}\n",
        "historys = {}\n",
        "\n",
        "for key in cross_validation_iterations:\n",
        "\n",
        "  # Initialize model\n",
        "  model = get_model()\n",
        "\n",
        "  # Fit to training set\n",
        "  history = model.fit(cross_validation_iterations[key][0],\n",
        "                      epochs=5,\n",
        "                      verbose=1\n",
        "                      )\n",
        "  \n",
        "  # Evaluate on validation set\n",
        "  accuracy = model.evaluate(cross_validation_iterations[key][1])\n",
        "\n",
        "  # Store accuracy and history\n",
        "  accuracies[key] = accuracy\n",
        "  historys[key] = history\n",
        "\n",
        "  model.save(f\"/content/drive/MyDrive/AI wearables/model_{key}.h5\")"
      ],
      "execution_count": null,
      "outputs": [
        {
          "output_type": "stream",
          "name": "stdout",
          "text": [
            "Epoch 1/5\n",
            "8/8 [==============================] - 109s 14s/step - loss: 12.2612 - accuracy: 0.0250\n",
            "Epoch 2/5\n",
            "8/8 [==============================] - 158s 20s/step - loss: 6.9551 - accuracy: 0.1375\n",
            "Epoch 3/5\n",
            "8/8 [==============================] - 157s 20s/step - loss: 5.7573 - accuracy: 0.3000\n",
            "Epoch 4/5\n",
            "8/8 [==============================] - 157s 20s/step - loss: 3.7480 - accuracy: 0.3750\n",
            "Epoch 5/5\n",
            "8/8 [==============================] - 157s 20s/step - loss: 3.3022 - accuracy: 0.4625\n",
            "      2/Unknown - 23s 12s/step - loss: 8.5332 - accuracy: 0.2000Epoch 1/5\n",
            "8/8 [==============================] - 123s 15s/step - loss: 9.9644 - accuracy: 0.0625\n",
            "Epoch 2/5\n",
            "8/8 [==============================] - 122s 15s/step - loss: 7.8608 - accuracy: 0.1250\n",
            "Epoch 3/5\n",
            "8/8 [==============================] - 122s 15s/step - loss: 5.3999 - accuracy: 0.2750\n",
            "Epoch 4/5\n",
            "8/8 [==============================] - 126s 16s/step - loss: 4.8125 - accuracy: 0.4000\n",
            "Epoch 5/5\n",
            "8/8 [==============================] - 125s 16s/step - loss: 3.0559 - accuracy: 0.4250\n",
            "      2/Unknown - 46s 23s/step - loss: 7.3711 - accuracy: 0.0500Epoch 1/5\n",
            "8/8 [==============================] - 96s 12s/step - loss: 9.0352 - accuracy: 0.0750\n",
            "Epoch 2/5\n",
            "8/8 [==============================] - 91s 11s/step - loss: 6.5022 - accuracy: 0.3125\n",
            "Epoch 3/5\n",
            "8/8 [==============================] - 51s 6s/step - loss: 5.9193 - accuracy: 0.3500\n",
            "Epoch 4/5\n",
            "8/8 [==============================] - 44s 5s/step - loss: 5.0222 - accuracy: 0.4000\n",
            "Epoch 5/5\n",
            "8/8 [==============================] - 131s 16s/step - loss: 4.7244 - accuracy: 0.4625\n",
            "      2/Unknown - 47s 23s/step - loss: 15.0977 - accuracy: 0.1000Epoch 1/5\n",
            "8/8 [==============================] - 116s 14s/step - loss: 8.1919 - accuracy: 0.1125\n",
            "Epoch 2/5\n",
            "8/8 [==============================] - 132s 17s/step - loss: 6.2949 - accuracy: 0.2500\n",
            "Epoch 3/5\n",
            "8/8 [==============================] - 100s 12s/step - loss: 3.9327 - accuracy: 0.4500\n",
            "Epoch 4/5\n",
            "8/8 [==============================] - 89s 11s/step - loss: 2.6473 - accuracy: 0.5125\n",
            "Epoch 5/5\n",
            "8/8 [==============================] - 106s 13s/step - loss: 2.8347 - accuracy: 0.4750\n",
            "      2/Unknown - 47s 23s/step - loss: 9.8633 - accuracy: 0.1000Epoch 1/5\n",
            "8/8 [==============================] - 120s 15s/step - loss: 9.0312 - accuracy: 0.0375\n",
            "Epoch 2/5\n",
            "8/8 [==============================] - 118s 15s/step - loss: 6.0889 - accuracy: 0.2750\n",
            "Epoch 3/5\n",
            "8/8 [==============================] - 126s 16s/step - loss: 6.4897 - accuracy: 0.3125\n",
            "Epoch 4/5\n",
            "8/8 [==============================] - 118s 15s/step - loss: 7.4480 - accuracy: 0.3125\n",
            "Epoch 5/5\n",
            "8/8 [==============================] - 118s 15s/step - loss: 4.0768 - accuracy: 0.3375\n",
            "      2/Unknown - 46s 23s/step - loss: 11.0820 - accuracy: 0.1000"
          ]
        }
      ]
    },
    {
      "cell_type": "code",
      "metadata": {
        "id": "1X_Hi-edEwIi",
        "colab": {
          "base_uri": "https://localhost:8080/"
        },
        "outputId": "98cd79b1-f171-4101-c2d0-df3c339f4dff"
      },
      "source": [
        "# Get overall model accuracy\n",
        "average_accuracy = 0\n",
        "\n",
        "for i in range(5):\n",
        "  average_accuracy += accuracies[i][1]\n",
        "\n",
        "average_accuracy = average_accuracy / 5\n",
        "\n",
        "\n",
        "print(\"Average model accuracy: \", average_accuracy )"
      ],
      "execution_count": null,
      "outputs": [
        {
          "output_type": "stream",
          "name": "stdout",
          "text": [
            "Average model accuracy:  0.11000000163912774\n"
          ]
        }
      ]
    },
    {
      "cell_type": "markdown",
      "metadata": {
        "id": "y71M-I8PJDSY"
      },
      "source": [
        "### Model Variation 2: Learning rate of 0.2, 5 Epochs"
      ]
    },
    {
      "cell_type": "code",
      "metadata": {
        "id": "fe2JyBNjJIE7"
      },
      "source": [
        "from tensorflow import keras\n",
        "import tensorflow as tf\n",
        "\n",
        "\n",
        "def get_model_2():\n",
        "  # Create model\n",
        "  model = keras.Sequential([\n",
        "      keras.layers.Input((116, 224, 224, 3)),\n",
        "      i3d,\n",
        "      keras.layers.Dense(14, activation=\"softmax\")\n",
        "  ])\n",
        "\n",
        "  # Compile the model\n",
        "  model.compile(loss=\"sparse_categorical_crossentropy\",\n",
        "                optimizer=tf.keras.optimizers.Adam(learning_rate=0.2),\n",
        "                metrics=[\"accuracy\"])\n",
        "\n",
        "  model.build()\n",
        "  return model"
      ],
      "execution_count": null,
      "outputs": []
    },
    {
      "cell_type": "code",
      "metadata": {
        "colab": {
          "base_uri": "https://localhost:8080/"
        },
        "id": "gZ90c3k2KhGw",
        "outputId": "65f3af1a-427a-428c-eb4c-c0716b79fbed"
      },
      "source": [
        "accuracies = {}\n",
        "historys = {}\n",
        "\n",
        "for key in cross_validation_iterations:\n",
        "\n",
        "  # Initialize model\n",
        "  model = get_model_2()\n",
        "\n",
        "  # Fit to training set\n",
        "  history = model.fit(cross_validation_iterations[key][0],\n",
        "                      epochs=5,\n",
        "                      verbose=1\n",
        "                      )\n",
        "  \n",
        "  # Evaluate on validation set\n",
        "  accuracy = model.evaluate(cross_validation_iterations[key][1])\n",
        "\n",
        "  # Store accuracy and history\n",
        "  accuracies[key] = accuracy\n",
        "  historys[key] = history\n",
        "\n",
        "  model.save(f\"/content/drive/MyDrive/AI wearables/model_v2_{key}.h5\")"
      ],
      "execution_count": null,
      "outputs": [
        {
          "output_type": "stream",
          "name": "stdout",
          "text": [
            "Epoch 1/5\n",
            "8/8 [==============================] - 128s 16s/step - loss: 218.2119 - accuracy: 0.1250\n",
            "Epoch 2/5\n",
            "8/8 [==============================] - 138s 17s/step - loss: 117.2422 - accuracy: 0.2250\n",
            "Epoch 3/5\n",
            "8/8 [==============================] - 138s 17s/step - loss: 152.7734 - accuracy: 0.2875\n",
            "Epoch 4/5\n",
            "8/8 [==============================] - 149s 19s/step - loss: 95.9043 - accuracy: 0.4000\n",
            "Epoch 5/5\n",
            "8/8 [==============================] - 141s 18s/step - loss: 103.3789 - accuracy: 0.3875\n",
            "      2/Unknown - 46s 23s/step - loss: 135.0000 - accuracy: 0.1000Epoch 1/5\n",
            "8/8 [==============================] - 118s 15s/step - loss: 164.1855 - accuracy: 0.0875\n",
            "Epoch 2/5\n",
            "8/8 [==============================] - 116s 14s/step - loss: 165.0234 - accuracy: 0.2000\n",
            "Epoch 3/5\n",
            "8/8 [==============================] - 120s 15s/step - loss: 105.0352 - accuracy: 0.2625\n",
            "Epoch 4/5\n",
            "8/8 [==============================] - 135s 17s/step - loss: 96.1758 - accuracy: 0.3750\n",
            "Epoch 5/5\n",
            "8/8 [==============================] - 127s 16s/step - loss: 97.7207 - accuracy: 0.3125\n",
            "      2/Unknown - 46s 23s/step - loss: 101.0625 - accuracy: 0.2000Epoch 1/5\n",
            "8/8 [==============================] - 99s 12s/step - loss: 197.7290 - accuracy: 0.0750\n",
            "Epoch 2/5\n",
            "8/8 [==============================] - 99s 12s/step - loss: 126.6484 - accuracy: 0.2750\n",
            "Epoch 3/5\n",
            "8/8 [==============================] - 119s 15s/step - loss: 119.1758 - accuracy: 0.3250\n",
            "Epoch 4/5\n",
            "8/8 [==============================] - 114s 14s/step - loss: 105.6953 - accuracy: 0.3750\n",
            "Epoch 5/5\n",
            "8/8 [==============================] - 111s 14s/step - loss: 60.5723 - accuracy: 0.4125\n",
            "      2/Unknown - 46s 23s/step - loss: 211.5625 - accuracy: 0.2000Epoch 1/5\n",
            "8/8 [==============================] - 135s 17s/step - loss: 166.7285 - accuracy: 0.0625\n",
            "Epoch 2/5\n",
            "8/8 [==============================] - 132s 17s/step - loss: 154.7500 - accuracy: 0.1500\n",
            "Epoch 3/5\n",
            "8/8 [==============================] - 140s 17s/step - loss: 94.4922 - accuracy: 0.3500\n",
            "Epoch 4/5\n",
            "8/8 [==============================] - 148s 19s/step - loss: 70.4570 - accuracy: 0.4000\n",
            "Epoch 5/5\n",
            "8/8 [==============================] - 145s 18s/step - loss: 62.6699 - accuracy: 0.5000\n",
            "      2/Unknown - 46s 23s/step - loss: 196.8750 - accuracy: 0.1500Epoch 1/5\n",
            "8/8 [==============================] - 147s 18s/step - loss: 186.6445 - accuracy: 0.1000\n",
            "Epoch 2/5\n",
            "8/8 [==============================] - 145s 18s/step - loss: 156.4375 - accuracy: 0.2125\n",
            "Epoch 3/5\n",
            "8/8 [==============================] - 146s 18s/step - loss: 165.1797 - accuracy: 0.3250\n",
            "Epoch 4/5\n",
            "8/8 [==============================] - 145s 18s/step - loss: 117.6992 - accuracy: 0.3750\n",
            "Epoch 5/5\n",
            "8/8 [==============================] - 146s 18s/step - loss: 71.9082 - accuracy: 0.4750\n",
            "      2/Unknown - 45s 23s/step - loss: 217.6250 - accuracy: 0.1500"
          ]
        }
      ]
    },
    {
      "cell_type": "code",
      "metadata": {
        "colab": {
          "base_uri": "https://localhost:8080/"
        },
        "id": "7HnMcQPba0nl",
        "outputId": "4b3c0a3f-109f-4ac0-f6f5-f21ecbab9233"
      },
      "source": [
        "# Get overall model accuracy\n",
        "average_accuracy = 0\n",
        "\n",
        "for i in range(5):\n",
        "  average_accuracy += accuracies[i][1]\n",
        "\n",
        "average_accuracy = average_accuracy / 5\n",
        "\n",
        "\n",
        "print(\"Average model accuracy: \", average_accuracy )"
      ],
      "execution_count": null,
      "outputs": [
        {
          "output_type": "stream",
          "name": "stdout",
          "text": [
            "Average model accuracy:  0.1600000038743019\n"
          ]
        }
      ]
    },
    {
      "cell_type": "markdown",
      "metadata": {
        "id": "8gKg7xYIi8C5"
      },
      "source": [
        "### Final Model: Learning Rate of 0.1, 15 epochs"
      ]
    },
    {
      "cell_type": "markdown",
      "metadata": {
        "id": "OK38DMqZkEdw"
      },
      "source": [
        "#### Setup entire training set"
      ]
    },
    {
      "cell_type": "code",
      "metadata": {
        "id": "mf1aV-3pjWWV"
      },
      "source": [
        "import h5py\n",
        "\n",
        "list_of_x_train_folds = [0, 1, 2, 3, 4]\n",
        "\n",
        "# Set generical x and y paths\n",
        "X_TRAIN_HDF5_PATH = \"/content/drive/MyDrive/Colab Notebooks/Deep Learning/AI wearables/X_train_\"\n",
        "Y_TRAIN_HDF5_PATH = \"/content/drive/MyDrive/Colab Notebooks/Deep Learning/AI wearables/y_train_\"\n",
        "\n",
        "k = 0\n",
        "\n",
        "### CREATE TRAINING DATASET ###\n",
        "\n",
        "i = 0 # used to start new dataset stream\n",
        "\n",
        "for train_fold in list_of_x_train_folds:\n",
        "  \n",
        "  if i == 0:\n",
        "\n",
        "    # Setup x and y train path\n",
        "    X_train_path = X_TRAIN_HDF5_PATH + f\"{train_fold}.hdf5\"\n",
        "    y_train_path = Y_TRAIN_HDF5_PATH + f\"{train_fold}.hdf5\"\n",
        "\n",
        "    # Initialize training set\n",
        "    X_train = io_hdf5(X_train_path, \"train\", \"_clips\")\n",
        "    y_train = io_hdf5(y_train_path, \"train\", \"_labels\")\n",
        "\n",
        "    i += 1\n",
        "\n",
        "  else:\n",
        "\n",
        "    # Setup x and y train path\n",
        "    X_train_path = X_TRAIN_HDF5_PATH + f\"{train_fold}.hdf5\"\n",
        "    y_train_path = Y_TRAIN_HDF5_PATH + f\"{train_fold}.hdf5\"\n",
        "\n",
        "    # Concat to training set\n",
        "    X_train_to_concat = io_hdf5(X_train_path, \"train\", \"_clips\")\n",
        "    y_train_to_concat = io_hdf5(y_train_path, \"train\", \"_labels\")\n",
        "\n",
        "    X_train = X_train.concatenate(X_train_to_concat)\n",
        "    y_train = y_train.concatenate(y_train_to_concat)\n",
        "\n",
        "# Zip final training sets together\n",
        "train = zip_dataset(X_train, y_train)\n",
        "\n",
        "print(\"**\"*80)\n",
        "print(\"Train:\", train)\n",
        "print(\"--\"*80)\n",
        "print(\"Done!\")\n",
        "k += 1"
      ],
      "execution_count": null,
      "outputs": []
    },
    {
      "cell_type": "markdown",
      "metadata": {
        "id": "9E7rKihukPjn"
      },
      "source": [
        "#### Train final model using 15 epochs and learning rate of 0.2"
      ]
    },
    {
      "cell_type": "code",
      "metadata": {
        "colab": {
          "base_uri": "https://localhost:8080/"
        },
        "id": "RFAXpyR9jK8t",
        "outputId": "a32cafe4-e8cb-484e-813e-202cdf283058"
      },
      "source": [
        "# Initialize model\n",
        "model = get_model_2()\n",
        "\n",
        "# Early stopping\n",
        "early_stop = tf.keras.callbacks.EarlyStopping(monitor='loss',\n",
        "                                              patience=4,\n",
        "                                              verbose=1,\n",
        "                                              restore_best_weights=True\n",
        "                                              )\n",
        "\n",
        "# Fit to training set\n",
        "history = model.fit(train,\n",
        "                    epochs=20,\n",
        "                    verbose=1,\n",
        "                    callbacks=[early_stop]\n",
        "                    )\n",
        "\n",
        "model.save(f\"/content/drive/MyDrive/Colab Notebooks/Deep Learning/final_model.h5\")"
      ],
      "execution_count": null,
      "outputs": [
        {
          "output_type": "stream",
          "name": "stdout",
          "text": [
            "Epoch 1/20\n",
            "10/10 [==============================] - 125s 13s/step - loss: 180.0043 - accuracy: 0.1200\n",
            "Epoch 2/20\n",
            "10/10 [==============================] - 196s 20s/step - loss: 187.5813 - accuracy: 0.2100\n",
            "Epoch 3/20\n",
            "10/10 [==============================] - 196s 20s/step - loss: 115.7219 - accuracy: 0.3500\n",
            "Epoch 4/20\n",
            "10/10 [==============================] - 196s 20s/step - loss: 90.2797 - accuracy: 0.3700\n",
            "Epoch 5/20\n",
            "10/10 [==============================] - 196s 20s/step - loss: 98.2844 - accuracy: 0.4300\n",
            "Epoch 6/20\n",
            "10/10 [==============================] - 196s 20s/step - loss: 85.3625 - accuracy: 0.3500\n",
            "Epoch 7/20\n",
            "10/10 [==============================] - 196s 20s/step - loss: 87.3094 - accuracy: 0.4100\n",
            "Epoch 8/20\n",
            "10/10 [==============================] - 196s 20s/step - loss: 66.4539 - accuracy: 0.4800\n",
            "Epoch 9/20\n",
            "10/10 [==============================] - 196s 20s/step - loss: 57.1709 - accuracy: 0.4900\n",
            "Epoch 10/20\n",
            "10/10 [==============================] - 196s 20s/step - loss: 69.0172 - accuracy: 0.5500\n",
            "Epoch 11/20\n",
            "10/10 [==============================] - 197s 20s/step - loss: 57.8266 - accuracy: 0.5700\n",
            "Epoch 12/20\n",
            "10/10 [==============================] - 196s 20s/step - loss: 43.4230 - accuracy: 0.6500\n",
            "Epoch 13/20\n",
            "10/10 [==============================] - 196s 20s/step - loss: 57.1703 - accuracy: 0.5900\n",
            "Epoch 14/20\n",
            "10/10 [==============================] - 196s 20s/step - loss: 44.0043 - accuracy: 0.6300\n",
            "Epoch 15/20\n",
            "10/10 [==============================] - 197s 20s/step - loss: 53.4185 - accuracy: 0.6600\n",
            "Epoch 16/20\n",
            "10/10 [==============================] - 196s 20s/step - loss: 32.7910 - accuracy: 0.6700\n",
            "Epoch 17/20\n",
            "10/10 [==============================] - 197s 20s/step - loss: 24.7725 - accuracy: 0.7700\n",
            "Epoch 18/20\n",
            "10/10 [==============================] - 196s 20s/step - loss: 14.0254 - accuracy: 0.8400\n",
            "Epoch 19/20\n",
            "10/10 [==============================] - 197s 20s/step - loss: 19.1141 - accuracy: 0.8000\n",
            "Epoch 20/20\n",
            "10/10 [==============================] - 196s 20s/step - loss: 15.7854 - accuracy: 0.7300\n"
          ]
        }
      ]
    },
    {
      "cell_type": "markdown",
      "metadata": {
        "id": "ylj8-FRwEuxk"
      },
      "source": [
        "## Confusion Matrix..."
      ]
    },
    {
      "cell_type": "code",
      "metadata": {
        "colab": {
          "base_uri": "https://localhost:8080/"
        },
        "id": "kuJgRzdXEDS9",
        "outputId": "e53a66ee-9cf1-4d97-cfe3-85ae98b7dd51"
      },
      "source": [
        "final_model.evaluate(train)"
      ],
      "execution_count": null,
      "outputs": [
        {
          "output_type": "stream",
          "name": "stdout",
          "text": [
            "     10/Unknown - 145s 15s/step - loss: 4.8135 - accuracy: 0.8900"
          ]
        },
        {
          "output_type": "execute_result",
          "data": {
            "text/plain": [
              "[4.813462650775909, 0.89]"
            ]
          },
          "metadata": {},
          "execution_count": 23
        }
      ]
    },
    {
      "cell_type": "code",
      "metadata": {
        "id": "zE_b7HG_ga3u"
      },
      "source": [
        "import h5py\n",
        "\n",
        "test_set_batches = [0, 1, 2, 3, 4]\n",
        "\n",
        "# Set generical x and y paths\n",
        "X_TEST_HDF5_PATH = \"/content/drive/MyDrive/Colab Notebooks/Deep Learning/X_test_\"\n",
        "\n",
        "\n",
        "i = 0 # used to start new dataset stream\n",
        "\n",
        "for batch in test_set_batches:\n",
        "\n",
        "  if i == 0:\n",
        "\n",
        "    # Setup x and y test path\n",
        "    X_test_path = X_TEST_HDF5_PATH + f\"{batch}.hdf5\"\n",
        "\n",
        "    # Initialize training set\n",
        "    X_test = io_hdf5(X_test_path, \"test\", \"_clips\")\n",
        "\n",
        "    i += 1\n",
        "\n",
        "  else:\n",
        "\n",
        "    # Setup x and y test path\n",
        "    X_test_path = X_TEST_HDF5_PATH + f\"{batch}.hdf5\"\n",
        "\n",
        "    # Concat to training set\n",
        "    X_test_to_concat = io_hdf5(X_test_path, \"test\", \"_clips\")\n",
        "\n",
        "    X_test = X_test.concatenate(X_test_to_concat)"
      ],
      "execution_count": 7,
      "outputs": []
    },
    {
      "cell_type": "code",
      "metadata": {
        "id": "MmC3l1iGk3ur"
      },
      "source": [
        "X_test_final = tf.data.Dataset.zip(X_test).batch(10, drop_remainder=True).prefetch(tf.data.experimental.AUTOTUNE)\n"
      ],
      "execution_count": 8,
      "outputs": []
    },
    {
      "cell_type": "code",
      "metadata": {
        "id": "hFE75ro3lA_r"
      },
      "source": [
        "predict_proba = final_model.predict(X_test_final)"
      ],
      "execution_count": 9,
      "outputs": []
    },
    {
      "cell_type": "code",
      "metadata": {
        "id": "bxR8vH-Oloao"
      },
      "source": [
        "predictions = tf.argmax(predict_proba, axis=-1)"
      ],
      "execution_count": null,
      "outputs": []
    },
    {
      "cell_type": "code",
      "metadata": {
        "colab": {
          "base_uri": "https://localhost:8080/"
        },
        "id": "KtSrEdXBmjTD",
        "outputId": "247a178d-5da5-4d8c-de4c-d184f1d3a00f"
      },
      "source": [
        "predictions"
      ],
      "execution_count": null,
      "outputs": [
        {
          "output_type": "execute_result",
          "data": {
            "text/plain": [
              "100"
            ]
          },
          "metadata": {},
          "execution_count": 13
        }
      ]
    },
    {
      "cell_type": "code",
      "metadata": {
        "id": "IMrNr7-zoTpt"
      },
      "source": [
        "test_set_batches = [0, 1, 2, 3, 4]\n",
        "\n",
        "Y_TEST_HDF5_PATH = \"/content/drive/MyDrive/Colab Notebooks/Deep Learning/y_test_\"\n",
        "\n",
        "y_test_final = []\n",
        "\n",
        "for batch in  test_set_batches:\n",
        "  y_test_path = Y_TEST_HDF5_PATH + f\"{batch}.hdf5\"\n",
        "  f = h5py.File(y_test_path, \"r\")\n",
        "  labels = f[\"test_labels\"]\n",
        "\n",
        "  for y in labels:\n",
        "    y_test_final.append(y)\n",
        "\n",
        "  f.close()"
      ],
      "execution_count": null,
      "outputs": []
    },
    {
      "cell_type": "code",
      "metadata": {
        "colab": {
          "base_uri": "https://localhost:8080/"
        },
        "id": "IujzZz2tpCly",
        "outputId": "6b56ed09-3271-4263-cebf-ec98915348ce"
      },
      "source": [
        "from sklearn.metrics import confusion_matrix\n",
        "\n",
        "print(confusion_matrix(predictions, y_test_final))"
      ],
      "execution_count": null,
      "outputs": [
        {
          "output_type": "stream",
          "name": "stdout",
          "text": [
            "[[0 0 0 0 0 0 0 0 0 0 0 0 0 0]\n",
            " [0 0 0 0 0 0 0 0 0 0 0 0 0 1]\n",
            " [0 0 0 0 0 0 0 0 0 0 0 0 0 0]\n",
            " [0 0 0 0 0 0 1 0 0 0 0 0 0 0]\n",
            " [0 1 0 0 0 0 0 0 0 0 0 0 1 0]\n",
            " [0 0 0 0 0 0 0 0 0 2 0 0 0 0]\n",
            " [1 1 1 0 0 0 4 0 0 0 0 0 0 0]\n",
            " [2 0 0 0 0 0 3 4 1 0 0 0 1 2]\n",
            " [1 0 0 0 0 1 0 0 2 2 0 0 1 1]\n",
            " [0 0 0 0 0 0 0 0 0 1 0 0 0 0]\n",
            " [2 0 0 7 1 5 0 4 3 3 6 3 5 3]\n",
            " [0 0 0 0 5 3 0 0 0 1 2 3 0 1]\n",
            " [0 0 0 0 0 0 0 0 0 0 0 0 0 0]\n",
            " [3 1 0 0 0 0 1 1 1 0 0 0 0 1]]\n"
          ]
        }
      ]
    },
    {
      "cell_type": "code",
      "metadata": {
        "id": "BuZwYfD1pJDp"
      },
      "source": [
        "# Our function needs a different name to sklearn's plot_confusion_matrix\n",
        "# This code was taken from Daniel Bourke's TensorFlow deep learning course on github\n",
        "# This is part of the \"helper_functions.py\" file found in the extras folder\n",
        "\n",
        "def make_confusion_matrix(y_true, y_pred, classes=None, figsize=(10, 10), text_size=15, norm=False, savefig=False): \n",
        "  \"\"\"Makes a labelled confusion matrix comparing predictions and ground truth labels.\n",
        "  If classes is passed, confusion matrix will be labelled, if not, integer class values\n",
        "  will be used.\n",
        "  Args:\n",
        "    y_true: Array of truth labels (must be same shape as y_pred).\n",
        "    y_pred: Array of predicted labels (must be same shape as y_true).\n",
        "    classes: Array of class labels (e.g. string form). If `None`, integer labels are used.\n",
        "    figsize: Size of output figure (default=(10, 10)).\n",
        "    text_size: Size of output figure text (default=15).\n",
        "    norm: normalize values or not (default=False).\n",
        "    savefig: save confusion matrix to file (default=False).\n",
        "  \n",
        "  Returns:\n",
        "    A labelled confusion matrix plot comparing y_true and y_pred.\n",
        "  Example usage:\n",
        "    make_confusion_matrix(y_true=test_labels, # ground truth test labels\n",
        "                          y_pred=y_preds, # predicted labels\n",
        "                          classes=class_names, # array of class label names\n",
        "                          figsize=(15, 15),\n",
        "                          text_size=10)\n",
        "  \"\"\"  \n",
        "  # Create the confustion matrix\n",
        "  cm = confusion_matrix(y_true, y_pred)\n",
        "  cm_norm = cm.astype(\"float\") / cm.sum(axis=1)[:, np.newaxis] # normalize it\n",
        "  n_classes = cm.shape[0] # find the number of classes we're dealing with\n",
        "\n",
        "  # Plot the figure and make it pretty\n",
        "  fig, ax = plt.subplots(figsize=figsize)\n",
        "  cax = ax.matshow(cm, cmap=plt.cm.Blues) # colors will represent how 'correct' a class is, darker == better\n",
        "  fig.colorbar(cax)\n",
        "\n",
        "  # Are there a list of classes?\n",
        "  if classes:\n",
        "    labels = classes\n",
        "  else:\n",
        "    labels = np.arange(cm.shape[0])\n",
        "  \n",
        "  # Label the axes\n",
        "  ax.set(title=\"Confusion Matrix\",\n",
        "         xlabel=\"Predicted label\",\n",
        "         ylabel=\"True label\",\n",
        "         xticks=np.arange(n_classes), # create enough axis slots for each class\n",
        "         yticks=np.arange(n_classes), \n",
        "         xticklabels=labels, # axes will labeled with class names (if they exist) or ints\n",
        "         yticklabels=labels)\n",
        "  \n",
        "  # Make x-axis labels appear on bottom\n",
        "  ax.xaxis.set_label_position(\"bottom\")\n",
        "  ax.xaxis.tick_bottom()\n",
        "\n",
        "  # Set the threshold for different colors\n",
        "  threshold = (cm.max() + cm.min()) / 2.\n",
        "\n",
        "  # Plot the text on each cell\n",
        "  for i, j in itertools.product(range(cm.shape[0]), range(cm.shape[1])):\n",
        "    if norm:\n",
        "      plt.text(j, i, f\"{cm[i, j]} ({cm_norm[i, j]*100:.1f}%)\",\n",
        "              horizontalalignment=\"center\",\n",
        "              color=\"white\" if cm[i, j] > threshold else \"black\",\n",
        "              size=text_size)\n",
        "    else:\n",
        "      plt.text(j, i, f\"{cm[i, j]}\",\n",
        "              horizontalalignment=\"center\",\n",
        "              color=\"white\" if cm[i, j] > threshold else \"black\",\n",
        "              size=text_size)\n",
        "      \n",
        "  plt.xticks(rotation=90)\n",
        "\n",
        "  # Save the figure to the current working directory\n",
        "  if savefig:\n",
        "    fig.savefig(\"confusion_matrix.png\")\n",
        "\n",
        "labels = [\"Non-gesture\", \"Pointing with one finger\", \"Pointing with two fingers\",\n",
        "          \"Click with one finger\", \"Click with two fingers\", \"Throw up\",\n",
        "          \"Throw down\", \"Throw left\", \"Throw right\", \"Open twice\", \n",
        "          \"Double click with one finger\", \"Double click with two fingers\",\n",
        "          \"Zoom in\", \"Zoom out\"]"
      ],
      "execution_count": null,
      "outputs": []
    },
    {
      "cell_type": "code",
      "metadata": {
        "colab": {
          "base_uri": "https://localhost:8080/",
          "height": 695
        },
        "id": "SfGUUTGLqBfU",
        "outputId": "09c2446a-2454-423b-d776-402eeccbf0a9"
      },
      "source": [
        "import numpy as np\n",
        "import matplotlib.pyplot as plt\n",
        "import itertools\n",
        "\n",
        "make_confusion_matrix(y_true=y_test_final,\n",
        "                      y_pred=predictions,\n",
        "                      classes=labels)"
      ],
      "execution_count": null,
      "outputs": [
        {
          "output_type": "display_data",
          "data": {
            "image/png": "[encoded data removed]",
            "text/plain": [
              "<Figure size 720x720 with 2 Axes>"
            ]
          },
          "metadata": {
            "needs_background": "light"
          }
        }
      ]
    },
    {
      "cell_type": "code",
      "metadata": {
        "colab": {
          "base_uri": "https://localhost:8080/"
        },
        "id": "uL6zIwGNsL4k",
        "outputId": "a2ccc033-f075-4062-95e0-a57298f0dadb"
      },
      "source": [
        "from sklearn.metrics import accuracy_score\n",
        "accuracy_score(y_test_final, predictions)"
      ],
      "execution_count": null,
      "outputs": [
        {
          "output_type": "execute_result",
          "data": {
            "text/plain": [
              "0.21"
            ]
          },
          "metadata": {},
          "execution_count": 35
        }
      ]
    },
    {
      "cell_type": "code",
      "metadata": {
        "colab": {
          "base_uri": "https://localhost:8080/"
        },
        "id": "TTE9YL2qpW2u",
        "outputId": "47506ffd-bb9b-4417-8c84-a2822d9d6ea4"
      },
      "source": [
        "from sklearn.metrics import classification_report\n",
        "import numpy as np\n",
        "\n",
        "print(classification_report(np.array(y_test_final), predictions.numpy()))"
      ],
      "execution_count": null,
      "outputs": [
        {
          "output_type": "stream",
          "name": "stdout",
          "text": [
            "              precision    recall  f1-score   support\n",
            "\n",
            "         0.0       0.00      0.00      0.00         9\n",
            "         1.0       0.00      0.00      0.00         3\n",
            "         2.0       0.00      0.00      0.00         1\n",
            "         3.0       0.00      0.00      0.00         7\n",
            "         4.0       0.00      0.00      0.00         6\n",
            "         5.0       0.00      0.00      0.00         9\n",
            "         6.0       0.57      0.44      0.50         9\n",
            "         7.0       0.31      0.44      0.36         9\n",
            "         8.0       0.25      0.29      0.27         7\n",
            "         9.0       1.00      0.11      0.20         9\n",
            "        10.0       0.14      0.75      0.24         8\n",
            "        11.0       0.20      0.50      0.29         6\n",
            "        12.0       0.00      0.00      0.00         8\n",
            "        13.0       0.12      0.11      0.12         9\n",
            "\n",
            "    accuracy                           0.21       100\n",
            "   macro avg       0.19      0.19      0.14       100\n",
            "weighted avg       0.22      0.21      0.16       100\n",
            "\n"
          ]
        },
        {
          "output_type": "stream",
          "name": "stderr",
          "text": [
            "/usr/local/lib/python3.7/dist-packages/sklearn/metrics/_classification.py:1272: UndefinedMetricWarning: Precision and F-score are ill-defined and being set to 0.0 in labels with no predicted samples. Use `zero_division` parameter to control this behavior.\n",
            "  _warn_prf(average, modifier, msg_start, len(result))\n"
          ]
        }
      ]
    },
    {
      "cell_type": "markdown",
      "metadata": {
        "id": "K9mAyeVJHqYK"
      },
      "source": [
        "## Making a prediction"
      ]
    },
    {
      "cell_type": "code",
      "metadata": {
        "id": "Ll2RtXVnLHzw"
      },
      "source": [
        "import tensorflow_hub as hub\n",
        "\n",
        "# Load final model\n",
        "\n",
        "final_model_path = \"/content/drive/MyDrive/Colab Notebooks/Deep Learning/final_model.h5\"\n",
        "\n",
        "final_model = tf.keras.models.load_model(final_model_path, custom_objects={'KerasLayer':hub.KerasLayer})"
      ],
      "execution_count": 70,
      "outputs": []
    },
    {
      "cell_type": "code",
      "metadata": {
        "id": "rOyAUIm9Hsnz"
      },
      "source": [
        "import h5py\n",
        "\n",
        "sample = 13\n",
        "\n",
        "X_sample_path = \"/content/drive/MyDrive/Colab Notebooks/Deep Learning/X_test_0.hdf5\"\n",
        "y_sample_path = \"/content/drive/MyDrive/Colab Notebooks/Deep Learning/y_test_0.hdf5\"\n",
        "\n",
        "X_test_set = h5py.File(X_sample_path, \"r\")\n",
        "y_test_set = h5py.File(y_sample_path, \"r\")\n",
        "\n",
        "X_sample = X_test_set[\"test_clips\"][sample]\n",
        "y_sample = y_test_set[\"test_labels\"][sample]\n",
        "\n",
        "X_test_set.close()\n",
        "y_test_set.close()"
      ],
      "execution_count": 64,
      "outputs": []
    },
    {
      "cell_type": "code",
      "metadata": {
        "id": "j2y5bkMlJ7Pp"
      },
      "source": [
        "X_sample.shape, y_sample.shape"
      ],
      "execution_count": null,
      "outputs": []
    },
    {
      "cell_type": "code",
      "metadata": {
        "id": "mmVT-82bKLzG"
      },
      "source": [
        "y_sample"
      ],
      "execution_count": null,
      "outputs": []
    },
    {
      "cell_type": "code",
      "metadata": {
        "id": "ZYdt4352K2wE"
      },
      "source": [
        "prediction = tf.argmax(final_model.predict(tf.expand_dims(X_sample, axis=0)), axis=-1)\n",
        "prediction"
      ],
      "execution_count": null,
      "outputs": []
    },
    {
      "cell_type": "code",
      "metadata": {
        "id": "ADpH5y3_LsDu"
      },
      "source": [
        "labels_dict = {0:\"Non-gesture\",\n",
        "               1:\"Pointing with one finger\",\n",
        "               2:\"Pointing with two fingers\",\n",
        "               3:\"Click with one finger\",\n",
        "               4:\"Click with two fingers\",\n",
        "               5:\"Throw up\",\n",
        "               6:\"Throw down\",\n",
        "               7:\"Throw left\",\n",
        "               8:\"Throw right\",\n",
        "               9:\"Open twice\",\n",
        "               10:\"Double click with one finger\",\n",
        "               11:\"Double click with two fingers\",\n",
        "               12:\"Zoom in\",\n",
        "               13:\"Zoom out\"\n",
        "}"
      ],
      "execution_count": 68,
      "outputs": []
    },
    {
      "cell_type": "code",
      "metadata": {
        "id": "PWMUEGvhL0sq"
      },
      "source": [
        "import numpy as np\n",
        "\n",
        "print(f\"Final Prediction: {labels_dict[prediction.numpy()[0]]}\",\n",
        "      f\"Actual Label: {labels_dict[y_sample]}\",\n",
        "      sep=\"\\n\")"
      ],
      "execution_count": null,
      "outputs": []
    }
  ]
}